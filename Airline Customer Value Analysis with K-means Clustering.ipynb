{
 "cells": [
  {
   "cell_type": "markdown",
   "id": "4d1290ee-2cea-4218-bf0a-80b85e2e938b",
   "metadata": {},
   "source": [
    "# Background:"
   ]
  },
  {
   "cell_type": "code",
   "execution_count": null,
   "id": "1ab787a7-2ed3-4f5b-8fde-8bfd655ba13f",
   "metadata": {},
   "outputs": [],
   "source": []
  }
 ],
 "metadata": {
  "kernelspec": {
   "display_name": "Python 3 (ipykernel)",
   "language": "python",
   "name": "python3"
  },
  "language_info": {
   "codemirror_mode": {
    "name": "ipython",
    "version": 3
   },
   "file_extension": ".py",
   "mimetype": "text/x-python",
   "name": "python",
   "nbconvert_exporter": "python",
   "pygments_lexer": "ipython3",
   "version": "3.11.7"
  }
 },
 "nbformat": 4,
 "nbformat_minor": 5
}
